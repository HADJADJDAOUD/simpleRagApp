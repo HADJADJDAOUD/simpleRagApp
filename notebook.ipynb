{
 "cells": [
  {
   "cell_type": "code",
   "execution_count": 1,
   "id": "aecebea6",
   "metadata": {
    "_cell_guid": "b1076dfc-b9ad-4769-8c92-a6c4dae69d19",
    "_uuid": "8f2839f25d086af736a60e9eeb907d3b93b6e0e5",
    "execution": {
     "iopub.execute_input": "2025-06-09T22:08:00.926309Z",
     "iopub.status.busy": "2025-06-09T22:08:00.926008Z",
     "iopub.status.idle": "2025-06-09T22:08:48.876477Z",
     "shell.execute_reply": "2025-06-09T22:08:48.875139Z"
    },
    "papermill": {
     "duration": 47.958903,
     "end_time": "2025-06-09T22:08:48.878307",
     "exception": false,
     "start_time": "2025-06-09T22:08:00.919404",
     "status": "completed"
    },
    "tags": []
   },
   "outputs": [
    {
     "name": "stdout",
     "output_type": "stream",
     "text": [
      "\u001b[2K     \u001b[90m━━━━━━━━━━━━━━━━━━━━━━━━━━━━━━━━━━━━━━━━\u001b[0m \u001b[32m67.3/67.3 kB\u001b[0m \u001b[31m2.5 MB/s\u001b[0m eta \u001b[36m0:00:00\u001b[0m\r\n",
      "\u001b[?25h  Installing build dependencies ... \u001b[?25l\u001b[?25hdone\r\n",
      "  Getting requirements to build wheel ... \u001b[?25l\u001b[?25hdone\r\n",
      "  Preparing metadata (pyproject.toml) ... \u001b[?25l\u001b[?25hdone\r\n",
      "\u001b[2K   \u001b[90m━━━━━━━━━━━━━━━━━━━━━━━━━━━━━━━━━━━━━━━━\u001b[0m \u001b[32m2.5/2.5 MB\u001b[0m \u001b[31m49.7 MB/s\u001b[0m eta \u001b[36m0:00:00\u001b[0m\r\n",
      "\u001b[2K   \u001b[90m━━━━━━━━━━━━━━━━━━━━━━━━━━━━━━━━━━━━━━━━\u001b[0m \u001b[32m1.0/1.0 MB\u001b[0m \u001b[31m37.7 MB/s\u001b[0m eta \u001b[36m0:00:00\u001b[0m\r\n",
      "\u001b[2K   \u001b[90m━━━━━━━━━━━━━━━━━━━━━━━━━━━━━━━━━━━━━━━━\u001b[0m \u001b[32m99.0/99.0 kB\u001b[0m \u001b[31m3.6 MB/s\u001b[0m eta \u001b[36m0:00:00\u001b[0m\r\n",
      "\u001b[2K   \u001b[90m━━━━━━━━━━━━━━━━━━━━━━━━━━━━━━━━━━━━━━━━\u001b[0m \u001b[32m19.3/19.3 MB\u001b[0m \u001b[31m67.4 MB/s\u001b[0m eta \u001b[36m0:00:00\u001b[0m\r\n",
      "\u001b[2K   \u001b[90m━━━━━━━━━━━━━━━━━━━━━━━━━━━━━━━━━━━━━━━━\u001b[0m \u001b[32m94.9/94.9 kB\u001b[0m \u001b[31m5.4 MB/s\u001b[0m eta \u001b[36m0:00:00\u001b[0m\r\n",
      "\u001b[2K   \u001b[90m━━━━━━━━━━━━━━━━━━━━━━━━━━━━━━━━━━━━━━━━\u001b[0m \u001b[32m284.2/284.2 kB\u001b[0m \u001b[31m14.6 MB/s\u001b[0m eta \u001b[36m0:00:00\u001b[0m\r\n",
      "\u001b[2K   \u001b[90m━━━━━━━━━━━━━━━━━━━━━━━━━━━━━━━━━━━━━━━━\u001b[0m \u001b[32m1.9/1.9 MB\u001b[0m \u001b[31m60.2 MB/s\u001b[0m eta \u001b[36m0:00:00\u001b[0m\r\n",
      "\u001b[2K   \u001b[90m━━━━━━━━━━━━━━━━━━━━━━━━━━━━━━━━━━━━━━━━\u001b[0m \u001b[32m438.1/438.1 kB\u001b[0m \u001b[31m20.8 MB/s\u001b[0m eta \u001b[36m0:00:00\u001b[0m\r\n",
      "\u001b[2K   \u001b[90m━━━━━━━━━━━━━━━━━━━━━━━━━━━━━━━━━━━━━━━━\u001b[0m \u001b[32m363.0/363.0 kB\u001b[0m \u001b[31m19.1 MB/s\u001b[0m eta \u001b[36m0:00:00\u001b[0m\r\n",
      "\u001b[2K   \u001b[90m━━━━━━━━━━━━━━━━━━━━━━━━━━━━━━━━━━━━━━━━\u001b[0m \u001b[32m61.6/61.6 kB\u001b[0m \u001b[31m2.9 MB/s\u001b[0m eta \u001b[36m0:00:00\u001b[0m\r\n",
      "\u001b[2K   \u001b[90m━━━━━━━━━━━━━━━━━━━━━━━━━━━━━━━━━━━━━━━━\u001b[0m \u001b[32m101.6/101.6 kB\u001b[0m \u001b[31m5.1 MB/s\u001b[0m eta \u001b[36m0:00:00\u001b[0m\r\n",
      "\u001b[2K   \u001b[90m━━━━━━━━━━━━━━━━━━━━━━━━━━━━━━━━━━━━━━━━\u001b[0m \u001b[32m16.4/16.4 MB\u001b[0m \u001b[31m61.6 MB/s\u001b[0m eta \u001b[36m0:00:00\u001b[0m\r\n",
      "\u001b[2K   \u001b[90m━━━━━━━━━━━━━━━━━━━━━━━━━━━━━━━━━━━━━━━━\u001b[0m \u001b[32m55.7/55.7 kB\u001b[0m \u001b[31m3.1 MB/s\u001b[0m eta \u001b[36m0:00:00\u001b[0m\r\n",
      "\u001b[2K   \u001b[90m━━━━━━━━━━━━━━━━━━━━━━━━━━━━━━━━━━━━━━━━\u001b[0m \u001b[32m196.2/196.2 kB\u001b[0m \u001b[31m11.4 MB/s\u001b[0m eta \u001b[36m0:00:00\u001b[0m\r\n",
      "\u001b[2K   \u001b[90m━━━━━━━━━━━━━━━━━━━━━━━━━━━━━━━━━━━━━━━━\u001b[0m \u001b[32m65.8/65.8 kB\u001b[0m \u001b[31m3.3 MB/s\u001b[0m eta \u001b[36m0:00:00\u001b[0m\r\n",
      "\u001b[2K   \u001b[90m━━━━━━━━━━━━━━━━━━━━━━━━━━━━━━━━━━━━━━━━\u001b[0m \u001b[32m118.4/118.4 kB\u001b[0m \u001b[31m6.2 MB/s\u001b[0m eta \u001b[36m0:00:00\u001b[0m\r\n",
      "\u001b[2K   \u001b[90m━━━━━━━━━━━━━━━━━━━━━━━━━━━━━━━━━━━━━━━━\u001b[0m \u001b[32m101.9/101.9 kB\u001b[0m \u001b[31m5.2 MB/s\u001b[0m eta \u001b[36m0:00:00\u001b[0m\r\n",
      "\u001b[2K   \u001b[90m━━━━━━━━━━━━━━━━━━━━━━━━━━━━━━━━━━━━━━━━\u001b[0m \u001b[32m324.8/324.8 kB\u001b[0m \u001b[31m16.8 MB/s\u001b[0m eta \u001b[36m0:00:00\u001b[0m\r\n",
      "\u001b[2K   \u001b[90m━━━━━━━━━━━━━━━━━━━━━━━━━━━━━━━━━━━━━━━━\u001b[0m \u001b[32m44.4/44.4 kB\u001b[0m \u001b[31m2.0 MB/s\u001b[0m eta \u001b[36m0:00:00\u001b[0m\r\n",
      "\u001b[2K   \u001b[90m━━━━━━━━━━━━━━━━━━━━━━━━━━━━━━━━━━━━━━━━\u001b[0m \u001b[32m62.4/62.4 kB\u001b[0m \u001b[31m3.7 MB/s\u001b[0m eta \u001b[36m0:00:00\u001b[0m\r\n",
      "\u001b[2K   \u001b[90m━━━━━━━━━━━━━━━━━━━━━━━━━━━━━━━━━━━━━━━━\u001b[0m \u001b[32m459.8/459.8 kB\u001b[0m \u001b[31m21.7 MB/s\u001b[0m eta \u001b[36m0:00:00\u001b[0m\r\n",
      "\u001b[2K   \u001b[90m━━━━━━━━━━━━━━━━━━━━━━━━━━━━━━━━━━━━━━━━\u001b[0m \u001b[32m65.5/65.5 kB\u001b[0m \u001b[31m3.5 MB/s\u001b[0m eta \u001b[36m0:00:00\u001b[0m\r\n",
      "\u001b[2K   \u001b[90m━━━━━━━━━━━━━━━━━━━━━━━━━━━━━━━━━━━━━━━━\u001b[0m \u001b[32m319.9/319.9 kB\u001b[0m \u001b[31m16.2 MB/s\u001b[0m eta \u001b[36m0:00:00\u001b[0m\r\n",
      "\u001b[2K   \u001b[90m━━━━━━━━━━━━━━━━━━━━━━━━━━━━━━━━━━━━━━━━\u001b[0m \u001b[32m71.5/71.5 kB\u001b[0m \u001b[31m3.6 MB/s\u001b[0m eta \u001b[36m0:00:00\u001b[0m\r\n",
      "\u001b[2K   \u001b[90m━━━━━━━━━━━━━━━━━━━━━━━━━━━━━━━━━━━━━━━━\u001b[0m \u001b[32m4.0/4.0 MB\u001b[0m \u001b[31m69.7 MB/s\u001b[0m eta \u001b[36m0:00:00\u001b[0m\r\n",
      "\u001b[2K   \u001b[90m━━━━━━━━━━━━━━━━━━━━━━━━━━━━━━━━━━━━━━━━\u001b[0m \u001b[32m454.8/454.8 kB\u001b[0m \u001b[31m20.7 MB/s\u001b[0m eta \u001b[36m0:00:00\u001b[0m\r\n",
      "\u001b[2K   \u001b[90m━━━━━━━━━━━━━━━━━━━━━━━━━━━━━━━━━━━━━━━━\u001b[0m \u001b[32m46.0/46.0 kB\u001b[0m \u001b[31m2.1 MB/s\u001b[0m eta \u001b[36m0:00:00\u001b[0m\r\n",
      "\u001b[2K   \u001b[90m━━━━━━━━━━━━━━━━━━━━━━━━━━━━━━━━━━━━━━━━\u001b[0m \u001b[32m86.8/86.8 kB\u001b[0m \u001b[31m4.8 MB/s\u001b[0m eta \u001b[36m0:00:00\u001b[0m\r\n",
      "\u001b[?25h  Building wheel for pypika (pyproject.toml) ... \u001b[?25l\u001b[?25hdone\r\n",
      "\u001b[31mERROR: pip's dependency resolver does not currently take into account all the packages that are installed. This behaviour is the source of the following dependency conflicts.\r\n",
      "google-api-core 1.34.1 requires protobuf!=3.20.0,!=3.20.1,!=4.21.0,!=4.21.1,!=4.21.2,!=4.21.3,!=4.21.4,!=4.21.5,<4.0.0dev,>=3.19.5, but you have protobuf 5.29.5 which is incompatible.\r\n",
      "datasets 3.6.0 requires fsspec[http]<=2025.3.0,>=2023.1.0, but you have fsspec 2025.3.2 which is incompatible.\r\n",
      "google-cloud-translate 3.12.1 requires protobuf!=3.20.0,!=3.20.1,!=4.21.0,!=4.21.1,!=4.21.2,!=4.21.3,!=4.21.4,!=4.21.5,<5.0.0dev,>=3.19.5, but you have protobuf 5.29.5 which is incompatible.\r\n",
      "cesium 0.12.4 requires numpy<3.0,>=2.0, but you have numpy 1.26.4 which is incompatible.\r\n",
      "bigframes 1.42.0 requires rich<14,>=12.4.4, but you have rich 14.0.0 which is incompatible.\r\n",
      "google-spark-connect 0.5.2 requires google-api-core>=2.19.1, but you have google-api-core 1.34.1 which is incompatible.\r\n",
      "google-cloud-bigtable 2.30.0 requires google-api-core[grpc]<3.0.0,>=2.16.0, but you have google-api-core 1.34.1 which is incompatible.\r\n",
      "google-cloud-storage 2.19.0 requires google-api-core<3.0.0dev,>=2.15.0, but you have google-api-core 1.34.1 which is incompatible.\r\n",
      "plotnine 0.14.5 requires matplotlib>=3.8.0, but you have matplotlib 3.7.2 which is incompatible.\r\n",
      "pandas-gbq 0.28.0 requires google-api-core<3.0.0dev,>=2.10.2, but you have google-api-core 1.34.1 which is incompatible.\r\n",
      "mlxtend 0.23.4 requires scikit-learn>=1.3.1, but you have scikit-learn 1.2.2 which is incompatible.\u001b[0m\u001b[31m\r\n",
      "\u001b[0m"
     ]
    }
   ],
   "source": [
    "!pip -q install langchain langchain_community pypdf fastembed chromadb"
   ]
  },
  {
   "cell_type": "code",
   "execution_count": 2,
   "id": "38e2e7c4",
   "metadata": {
    "execution": {
     "iopub.execute_input": "2025-06-09T22:08:48.892741Z",
     "iopub.status.busy": "2025-06-09T22:08:48.892364Z",
     "iopub.status.idle": "2025-06-09T22:08:48.980065Z",
     "shell.execute_reply": "2025-06-09T22:08:48.978869Z"
    },
    "papermill": {
     "duration": 0.096705,
     "end_time": "2025-06-09T22:08:48.981525",
     "exception": true,
     "start_time": "2025-06-09T22:08:48.884820",
     "status": "failed"
    },
    "tags": []
   },
   "outputs": [
    {
     "ename": "StdinNotImplementedError",
     "evalue": "getpass was called, but this frontend does not support input requests.",
     "output_type": "error",
     "traceback": [
      "\u001b[0;31m---------------------------------------------------------------------------\u001b[0m",
      "\u001b[0;31mStdinNotImplementedError\u001b[0m                  Traceback (most recent call last)",
      "\u001b[0;32m/tmp/ipykernel_13/2080229393.py\u001b[0m in \u001b[0;36m<cell line: 0>\u001b[0;34m()\u001b[0m\n\u001b[1;32m      2\u001b[0m \u001b[0;32mfrom\u001b[0m \u001b[0mgetpass\u001b[0m \u001b[0;32mimport\u001b[0m \u001b[0mgetpass\u001b[0m\u001b[0;34m\u001b[0m\u001b[0;34m\u001b[0m\u001b[0m\n\u001b[1;32m      3\u001b[0m \u001b[0;34m\u001b[0m\u001b[0m\n\u001b[0;32m----> 4\u001b[0;31m \u001b[0mhf_token\u001b[0m \u001b[0;34m=\u001b[0m \u001b[0mgetpass\u001b[0m\u001b[0;34m(\u001b[0m\u001b[0;34m\"Paste your Hugging Face token here: \"\u001b[0m\u001b[0;34m)\u001b[0m\u001b[0;34m\u001b[0m\u001b[0;34m\u001b[0m\u001b[0m\n\u001b[0m\u001b[1;32m      5\u001b[0m \u001b[0mos\u001b[0m\u001b[0;34m.\u001b[0m\u001b[0menviron\u001b[0m\u001b[0;34m[\u001b[0m\u001b[0;34m\"HUGGINGFACEHUB_API_TOKEN\"\u001b[0m\u001b[0;34m]\u001b[0m \u001b[0;34m=\u001b[0m \u001b[0mhf_token\u001b[0m\u001b[0;34m\u001b[0m\u001b[0;34m\u001b[0m\u001b[0m\n",
      "\u001b[0;32m/usr/local/lib/python3.11/dist-packages/ipykernel/kernelbase.py\u001b[0m in \u001b[0;36mgetpass\u001b[0;34m(self, prompt, stream)\u001b[0m\n\u001b[1;32m   1146\u001b[0m         \"\"\"\n\u001b[1;32m   1147\u001b[0m         \u001b[0;32mif\u001b[0m \u001b[0;32mnot\u001b[0m \u001b[0mself\u001b[0m\u001b[0;34m.\u001b[0m\u001b[0m_allow_stdin\u001b[0m\u001b[0;34m:\u001b[0m\u001b[0;34m\u001b[0m\u001b[0;34m\u001b[0m\u001b[0m\n\u001b[0;32m-> 1148\u001b[0;31m             raise StdinNotImplementedError(\n\u001b[0m\u001b[1;32m   1149\u001b[0m                 \u001b[0;34m\"getpass was called, but this frontend does not support input requests.\"\u001b[0m\u001b[0;34m\u001b[0m\u001b[0;34m\u001b[0m\u001b[0m\n\u001b[1;32m   1150\u001b[0m             )\n",
      "\u001b[0;31mStdinNotImplementedError\u001b[0m: getpass was called, but this frontend does not support input requests."
     ]
    }
   ],
   "source": [
    "import os\n",
    "from getpass import getpass\n",
    "\n",
    "hf_token = getpass(\"Paste your Hugging Face token here: \")\n",
    "os.environ[\"HUGGINGFACEHUB_API_TOKEN\"] = hf_token"
   ]
  },
  {
   "cell_type": "markdown",
   "id": "6e68c160",
   "metadata": {
    "papermill": {
     "duration": null,
     "end_time": null,
     "exception": null,
     "start_time": null,
     "status": "pending"
    },
    "tags": []
   },
   "source": [
    "### verifying your token"
   ]
  },
  {
   "cell_type": "code",
   "execution_count": null,
   "id": "183852ef",
   "metadata": {
    "execution": {
     "iopub.execute_input": "2025-06-09T21:33:48.884577Z",
     "iopub.status.busy": "2025-06-09T21:33:48.884218Z",
     "iopub.status.idle": "2025-06-09T21:33:48.974856Z",
     "shell.execute_reply": "2025-06-09T21:33:48.974014Z",
     "shell.execute_reply.started": "2025-06-09T21:33:48.884552Z"
    },
    "papermill": {
     "duration": null,
     "end_time": null,
     "exception": null,
     "start_time": null,
     "status": "pending"
    },
    "tags": []
   },
   "outputs": [],
   "source": [
    "from huggingface_hub import HfApi\n",
    "\n",
    "api = HfApi()\n",
    "user = api.whoami(token=os.environ[\"HUGGINGFACEHUB_API_TOKEN\"])\n",
    "print(\"Authenticated as:\", user.get(\"name\", user.get(\"user\")))\n"
   ]
  },
  {
   "cell_type": "code",
   "execution_count": 1,
   "id": "4363ba3c",
   "metadata": {
    "execution": {
     "iopub.execute_input": "2025-06-09T21:46:55.518159Z",
     "iopub.status.busy": "2025-06-09T21:46:55.517329Z",
     "iopub.status.idle": "2025-06-09T21:46:55.540592Z",
     "shell.execute_reply": "2025-06-09T21:46:55.539160Z",
     "shell.execute_reply.started": "2025-06-09T21:46:55.518128Z"
    },
    "papermill": {
     "duration": null,
     "end_time": null,
     "exception": null,
     "start_time": null,
     "status": "pending"
    },
    "tags": []
   },
   "outputs": [],
   "source": [
    "import os\n",
    "\n",
    "dataset_path = \"/Data/\"\n",
    "\n",
    "for root, dirs, files in os.walk(dataset_path):\n",
    "    for name in files:\n",
    "        print(os.path.join(root, name))"
   ]
  },
  {
   "cell_type": "code",
   "execution_count": 5,
   "id": "8283bc44",
   "metadata": {
    "execution": {
     "iopub.execute_input": "2025-06-09T21:46:56.852060Z",
     "iopub.status.busy": "2025-06-09T21:46:56.851193Z",
     "iopub.status.idle": "2025-06-09T21:46:56.978493Z",
     "shell.execute_reply": "2025-06-09T21:46:56.977409Z",
     "shell.execute_reply.started": "2025-06-09T21:46:56.852026Z"
    },
    "papermill": {
     "duration": null,
     "end_time": null,
     "exception": null,
     "start_time": null,
     "status": "pending"
    },
    "tags": []
   },
   "outputs": [
    {
     "name": "stdout",
     "output_type": "stream",
     "text": [
      "Loaded 11 pages\n",
      "First page snippet:\n",
      "1/I SELL MY DREAMS\n",
      "Short stories\n",
      "INTRODUCTION\n",
      "A short story is a prose narrative of limited length.\n",
      "It organises the action and thoughts of its\n",
      "characters into the pattern of a plot. The plot\n",
      "form may\n"
     ]
    }
   ],
   "source": [
    "# import PDF reader\n",
    "from langchain_community.document_loaders.pdf import PyPDFLoader\n",
    "loader = PyPDFLoader(\"Data/stories.pdf\")  # Adjust path to match your file location\n",
    "data = loader.load()\n",
    "\n",
    "# Verify loading\n",
    "print(f\"Loaded {len(data)} pages\")\n",
    "print(\"First page snippet:\")\n",
    "print(data[0].page_content[:200]) "
   ]
  },
  {
   "cell_type": "code",
   "execution_count": 6,
   "id": "03298130",
   "metadata": {
    "execution": {
     "iopub.execute_input": "2025-06-09T22:03:27.864040Z",
     "iopub.status.busy": "2025-06-09T22:03:27.863710Z",
     "iopub.status.idle": "2025-06-09T22:03:27.872525Z",
     "shell.execute_reply": "2025-06-09T22:03:27.871409Z",
     "shell.execute_reply.started": "2025-06-09T22:03:27.864019Z"
    },
    "papermill": {
     "duration": null,
     "end_time": null,
     "exception": null,
     "start_time": null,
     "status": "pending"
    },
    "tags": []
   },
   "outputs": [],
   "source": [
    "# import text splitter\n",
    "from langchain.text_splitter import RecursiveCharacterTextSplitter\n",
    "\n",
    "text_splitter = RecursiveCharacterTextSplitter(\n",
    "chunk_size = 512,\n",
    "chunk_overlap = 0,\n",
    ")\n",
    "\n",
    "chunks = text_splitter.split_documents(data)\n"
   ]
  },
  {
   "cell_type": "code",
   "execution_count": null,
   "id": "5a6418a0",
   "metadata": {
    "execution": {
     "iopub.execute_input": "2025-06-09T22:03:29.458327Z",
     "iopub.status.busy": "2025-06-09T22:03:29.457951Z",
     "iopub.status.idle": "2025-06-09T22:03:29.465319Z",
     "shell.execute_reply": "2025-06-09T22:03:29.464278Z",
     "shell.execute_reply.started": "2025-06-09T22:03:29.458290Z"
    },
    "papermill": {
     "duration": null,
     "end_time": null,
     "exception": null,
     "start_time": null,
     "status": "pending"
    },
    "tags": []
   },
   "outputs": [],
   "source": [
    "len(chunks)"
   ]
  },
  {
   "cell_type": "code",
   "execution_count": null,
   "id": "96578e7b",
   "metadata": {
    "execution": {
     "iopub.execute_input": "2025-06-09T21:38:15.488656Z",
     "iopub.status.busy": "2025-06-09T21:38:15.487963Z",
     "iopub.status.idle": "2025-06-09T21:38:15.495242Z",
     "shell.execute_reply": "2025-06-09T21:38:15.494322Z",
     "shell.execute_reply.started": "2025-06-09T21:38:15.488624Z"
    },
    "papermill": {
     "duration": null,
     "end_time": null,
     "exception": null,
     "start_time": null,
     "status": "pending"
    },
    "tags": []
   },
   "outputs": [],
   "source": [
    "chunks[0]"
   ]
  },
  {
   "cell_type": "code",
   "execution_count": null,
   "id": "195b1286",
   "metadata": {
    "execution": {
     "iopub.execute_input": "2025-06-09T21:40:18.947327Z",
     "iopub.status.busy": "2025-06-09T21:40:18.947021Z",
     "iopub.status.idle": "2025-06-09T21:40:31.446304Z",
     "shell.execute_reply": "2025-06-09T21:40:31.444998Z",
     "shell.execute_reply.started": "2025-06-09T21:40:18.947305Z"
    },
    "papermill": {
     "duration": null,
     "end_time": null,
     "exception": null,
     "start_time": null,
     "status": "pending"
    },
    "tags": []
   },
   "outputs": [],
   "source": [
    "from langchain_community.embeddings.fastembed import FastEmbedEmbeddings\n",
    "\n",
    "model_name = \"thenlper/gte-large\"\n",
    "embedding_model = FastEmbedEmbeddings(model_name=\"thenlper/gte-large\")\n"
   ]
  },
  {
   "cell_type": "code",
   "execution_count": null,
   "id": "a020a0a2",
   "metadata": {
    "execution": {
     "iopub.execute_input": "2025-06-09T21:41:32.777115Z",
     "iopub.status.busy": "2025-06-09T21:41:32.776480Z",
     "iopub.status.idle": "2025-06-09T21:42:18.667448Z",
     "shell.execute_reply": "2025-06-09T21:42:18.666569Z",
     "shell.execute_reply.started": "2025-06-09T21:41:32.777088Z"
    },
    "papermill": {
     "duration": null,
     "end_time": null,
     "exception": null,
     "start_time": null,
     "status": "pending"
    },
    "tags": []
   },
   "outputs": [],
   "source": [
    "from langchain.vectorstores import Chroma\n",
    "\n",
    "# initialize the vector store (save to disk)\n",
    "db = Chroma.from_documents(chunks, embedding_model, persist_directory=\"./chroma_db\")"
   ]
  },
  {
   "cell_type": "code",
   "execution_count": null,
   "id": "76583b05",
   "metadata": {
    "execution": {
     "iopub.execute_input": "2025-06-09T21:42:25.413588Z",
     "iopub.status.busy": "2025-06-09T21:42:25.412944Z",
     "iopub.status.idle": "2025-06-09T21:42:25.419476Z",
     "shell.execute_reply": "2025-06-09T21:42:25.418478Z",
     "shell.execute_reply.started": "2025-06-09T21:42:25.413555Z"
    },
    "papermill": {
     "duration": null,
     "end_time": null,
     "exception": null,
     "start_time": null,
     "status": "pending"
    },
    "tags": []
   },
   "outputs": [],
   "source": [
    "# Let's define the query, since we are going to use it multiple times.\n",
    "query = \"what is importance of I sell my dreams according to the author\""
   ]
  },
  {
   "cell_type": "code",
   "execution_count": null,
   "id": "c6649729",
   "metadata": {
    "execution": {
     "iopub.execute_input": "2025-06-09T21:42:28.657160Z",
     "iopub.status.busy": "2025-06-09T21:42:28.656832Z",
     "iopub.status.idle": "2025-06-09T21:42:28.801827Z",
     "shell.execute_reply": "2025-06-09T21:42:28.800711Z",
     "shell.execute_reply.started": "2025-06-09T21:42:28.657137Z"
    },
    "papermill": {
     "duration": null,
     "end_time": null,
     "exception": null,
     "start_time": null,
     "status": "pending"
    },
    "tags": []
   },
   "outputs": [],
   "source": [
    "# retrieve from vector db (load from disk) with query\n",
    "retrieved_docs = db.similarity_search(query)\n",
    "print(retrieved_docs[0].page_content)\n"
   ]
  },
  {
   "cell_type": "code",
   "execution_count": null,
   "id": "04fb02be",
   "metadata": {
    "execution": {
     "iopub.execute_input": "2025-06-09T21:47:03.947587Z",
     "iopub.status.busy": "2025-06-09T21:47:03.947211Z",
     "iopub.status.idle": "2025-06-09T21:47:03.952460Z",
     "shell.execute_reply": "2025-06-09T21:47:03.951440Z",
     "shell.execute_reply.started": "2025-06-09T21:47:03.947564Z"
    },
    "papermill": {
     "duration": null,
     "end_time": null,
     "exception": null,
     "start_time": null,
     "status": "pending"
    },
    "tags": []
   },
   "outputs": [],
   "source": [
    "# initialize the retriever\n",
    "retriever = db.as_retriever(\n",
    "search_type=\"mmr\", #similarity\n",
    "search_kwargs={'k': 4}\n",
    ")"
   ]
  },
  {
   "cell_type": "code",
   "execution_count": null,
   "id": "c555013a",
   "metadata": {
    "execution": {
     "iopub.execute_input": "2025-06-09T22:00:30.576085Z",
     "iopub.status.busy": "2025-06-09T22:00:30.575356Z",
     "iopub.status.idle": "2025-06-09T22:00:39.401181Z",
     "shell.execute_reply": "2025-06-09T22:00:39.399742Z",
     "shell.execute_reply.started": "2025-06-09T22:00:30.576059Z"
    },
    "papermill": {
     "duration": null,
     "end_time": null,
     "exception": null,
     "start_time": null,
     "status": "pending"
    },
    "tags": []
   },
   "outputs": [],
   "source": [
    "!pip install --upgrade langchain-huggingface\n"
   ]
  },
  {
   "cell_type": "code",
   "execution_count": null,
   "id": "f70f3a94",
   "metadata": {
    "execution": {
     "iopub.execute_input": "2025-06-09T22:03:37.848507Z",
     "iopub.status.busy": "2025-06-09T22:03:37.848137Z",
     "iopub.status.idle": "2025-06-09T22:03:37.854284Z",
     "shell.execute_reply": "2025-06-09T22:03:37.853244Z",
     "shell.execute_reply.started": "2025-06-09T22:03:37.848482Z"
    },
    "papermill": {
     "duration": null,
     "end_time": null,
     "exception": null,
     "start_time": null,
     "status": "pending"
    },
    "tags": []
   },
   "outputs": [],
   "source": [
    "from langchain_huggingface.llms.huggingface_endpoint import HuggingFaceEndpoint\n",
    "\n",
    "llm = HuggingFaceEndpoint(\n",
    "    model=\"HuggingFaceH4/zephyr-7b-beta\",\n",
    "    task=\"text-generation\",\n",
    "    temperature=0.1,\n",
    "    max_new_tokens=512,\n",
    ")"
   ]
  },
  {
   "cell_type": "code",
   "execution_count": null,
   "id": "b82015d7",
   "metadata": {
    "execution": {
     "iopub.execute_input": "2025-06-09T22:03:39.449220Z",
     "iopub.status.busy": "2025-06-09T22:03:39.448208Z",
     "iopub.status.idle": "2025-06-09T22:03:39.454183Z",
     "shell.execute_reply": "2025-06-09T22:03:39.453207Z",
     "shell.execute_reply.started": "2025-06-09T22:03:39.449186Z"
    },
    "papermill": {
     "duration": null,
     "end_time": null,
     "exception": null,
     "start_time": null,
     "status": "pending"
    },
    "tags": []
   },
   "outputs": [],
   "source": [
    "from langchain_core.prompts import ChatPromptTemplate\n",
    "from langchain_core.output_parsers import StrOutputParser\n",
    "from langchain_core.runnables import RunnablePassthrough\n",
    "\n",
    "template = \"\"\"\n",
    "<s>[INST]\n",
    "You are an AI Assistant that follows instructions extremely well.\n",
    "Please be truthful and give direct answers. Please tell 'I don't know' if user query is not in CONTEXT\n",
    "[/INST]\n",
    "CONTEXT: {context}\n",
    "</s>\n",
    "[INST]\n",
    "{query}\n",
    "[/INST]\n",
    "\"\"\"\n"
   ]
  },
  {
   "cell_type": "code",
   "execution_count": null,
   "id": "067c9ab7",
   "metadata": {
    "execution": {
     "iopub.execute_input": "2025-06-09T22:03:41.160599Z",
     "iopub.status.busy": "2025-06-09T22:03:41.160179Z",
     "iopub.status.idle": "2025-06-09T22:03:41.166082Z",
     "shell.execute_reply": "2025-06-09T22:03:41.165084Z",
     "shell.execute_reply.started": "2025-06-09T22:03:41.160574Z"
    },
    "papermill": {
     "duration": null,
     "end_time": null,
     "exception": null,
     "start_time": null,
     "status": "pending"
    },
    "tags": []
   },
   "outputs": [],
   "source": [
    "prompt = ChatPromptTemplate.from_template(template)\n",
    "output_parser = StrOutputParser()"
   ]
  },
  {
   "cell_type": "code",
   "execution_count": null,
   "id": "247102ae",
   "metadata": {
    "execution": {
     "iopub.execute_input": "2025-06-09T22:03:42.336539Z",
     "iopub.status.busy": "2025-06-09T22:03:42.336144Z",
     "iopub.status.idle": "2025-06-09T22:03:42.341978Z",
     "shell.execute_reply": "2025-06-09T22:03:42.340942Z",
     "shell.execute_reply.started": "2025-06-09T22:03:42.336512Z"
    },
    "papermill": {
     "duration": null,
     "end_time": null,
     "exception": null,
     "start_time": null,
     "status": "pending"
    },
    "tags": []
   },
   "outputs": [],
   "source": [
    "chain = (\n",
    "{\"context\": retriever, \"query\": RunnablePassthrough()}\n",
    "| prompt\n",
    "| llm\n",
    "| output_parser\n",
    ")\n"
   ]
  },
  {
   "cell_type": "code",
   "execution_count": null,
   "id": "4b089b88",
   "metadata": {
    "execution": {
     "iopub.execute_input": "2025-06-09T22:03:43.929438Z",
     "iopub.status.busy": "2025-06-09T22:03:43.929011Z",
     "iopub.status.idle": "2025-06-09T22:03:49.772211Z",
     "shell.execute_reply": "2025-06-09T22:03:49.771015Z",
     "shell.execute_reply.started": "2025-06-09T22:03:43.929410Z"
    },
    "papermill": {
     "duration": null,
     "end_time": null,
     "exception": null,
     "start_time": null,
     "status": "pending"
    },
    "tags": []
   },
   "outputs": [],
   "source": [
    "response = chain.invoke(query)\n",
    "response"
   ]
  },
  {
   "cell_type": "code",
   "execution_count": null,
   "id": "c28f513b",
   "metadata": {
    "execution": {
     "iopub.execute_input": "2025-06-09T22:04:19.619780Z",
     "iopub.status.busy": "2025-06-09T22:04:19.619387Z",
     "iopub.status.idle": "2025-06-09T22:04:25.784303Z",
     "shell.execute_reply": "2025-06-09T22:04:25.783367Z",
     "shell.execute_reply.started": "2025-06-09T22:04:19.619757Z"
    },
    "papermill": {
     "duration": null,
     "end_time": null,
     "exception": null,
     "start_time": null,
     "status": "pending"
    },
    "tags": []
   },
   "outputs": [],
   "source": [
    "response3 = chain.invoke(\"what is the author's name\")\n",
    "response3"
   ]
  },
  {
   "cell_type": "markdown",
   "id": "fc04df58",
   "metadata": {
    "papermill": {
     "duration": null,
     "end_time": null,
     "exception": null,
     "start_time": null,
     "status": "pending"
    },
    "tags": []
   },
   "source": [
    "### **NICE*# *** suuuuuuuuuuuuuuuuuuuuuuuuuuuui"
   ]
  }
 ],
 "metadata": {
  "kaggle": {
   "accelerator": "none",
   "dataSources": [
    {
     "datasetId": 7626214,
     "sourceId": 12112584,
     "sourceType": "datasetVersion"
    }
   ],
   "dockerImageVersionId": 31040,
   "isGpuEnabled": false,
   "isInternetEnabled": true,
   "language": "python",
   "sourceType": "notebook"
  },
  "kernelspec": {
   "display_name": "Python 3",
   "language": "python",
   "name": "python3"
  },
  "language_info": {
   "codemirror_mode": {
    "name": "ipython",
    "version": 3
   },
   "file_extension": ".py",
   "mimetype": "text/x-python",
   "name": "python",
   "nbconvert_exporter": "python",
   "pygments_lexer": "ipython3",
   "version": "3.12.1"
  },
  "papermill": {
   "default_parameters": {},
   "duration": 53.324932,
   "end_time": "2025-06-09T22:08:49.406187",
   "environment_variables": {},
   "exception": true,
   "input_path": "__notebook__.ipynb",
   "output_path": "__notebook__.ipynb",
   "parameters": {},
   "start_time": "2025-06-09T22:07:56.081255",
   "version": "2.6.0"
  }
 },
 "nbformat": 4,
 "nbformat_minor": 5
}
